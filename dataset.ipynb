{
 "cells": [
  {
   "cell_type": "markdown",
   "metadata": {},
   "source": [
    "## Check number of images and ensure no duplicate paths or duplicate file names exist"
   ]
  },
  {
   "cell_type": "code",
   "execution_count": null,
   "metadata": {},
   "outputs": [],
   "source": [
    "import os\n",
    "from glob import glob\n",
    "\n",
    "images = []\n",
    "for i in range(1, 11):\n",
    "    batch = os.path.join(f'archive/batch_{i}/background_images/', '*.jpg')\n",
    "    batch = glob(batch)\n",
    "    \n",
    "    images.extend(batch)"
   ]
  },
  {
   "cell_type": "markdown",
   "metadata": {},
   "source": [
    "### check for duplicate paths"
   ]
  },
  {
   "cell_type": "code",
   "execution_count": null,
   "metadata": {},
   "outputs": [],
   "source": [
    "len(images)"
   ]
  },
  {
   "cell_type": "code",
   "execution_count": null,
   "metadata": {},
   "outputs": [],
   "source": [
    "len(images) == len(set(images))"
   ]
  },
  {
   "cell_type": "markdown",
   "metadata": {},
   "source": [
    "### check for duplicate base names"
   ]
  },
  {
   "cell_type": "code",
   "execution_count": null,
   "metadata": {},
   "outputs": [],
   "source": [
    "basenames = [basename for basename in map(os.path.basename, images)]"
   ]
  },
  {
   "cell_type": "code",
   "execution_count": null,
   "metadata": {},
   "outputs": [],
   "source": [
    "len(basenames)"
   ]
  },
  {
   "cell_type": "code",
   "execution_count": null,
   "metadata": {},
   "outputs": [],
   "source": [
    "len(basenames) == len(set(basenames))"
   ]
  },
  {
   "cell_type": "markdown",
   "metadata": {},
   "source": [
    "## Move all files to data/images"
   ]
  },
  {
   "cell_type": "code",
   "execution_count": null,
   "metadata": {},
   "outputs": [],
   "source": [
    "from tqdm import tqdm\n",
    "\n",
    "\n",
    "def move_batch(batch_num):\n",
    "    images = glob(f\"archive/batch_{batch_num}/background_images/*.jpg\")\n",
    "    os.makedirs(\"data/images\", exist_ok=True)\n",
    "    \n",
    "    for image in tqdm(images, desc=f\"Moving batch {batch_num}\", unit=\"image\"):\n",
    "        basename = os.path.basename(image)\n",
    "        os.system(f\"mv {image} data/images/{basename}\")"
   ]
  },
  {
   "cell_type": "code",
   "execution_count": null,
   "metadata": {},
   "outputs": [],
   "source": [
    "for i in range(1, 11):\n",
    "    move_batch(i)"
   ]
  },
  {
   "cell_type": "markdown",
   "metadata": {},
   "source": [
    "## Make a new annotations file with image filenames being keys instead of a json array"
   ]
  },
  {
   "cell_type": "code",
   "execution_count": null,
   "metadata": {},
   "outputs": [],
   "source": [
    "import json\n",
    "annotations = {}\n",
    "\n",
    "for i in range(1, 11):\n",
    "    batch_annotations = glob(f\"archive/batch_{i}/JSON/*.json\")[0]\n",
    "    batch_annotations = json.load(open(batch_annotations))\n",
    "    \n",
    "    for annotation in batch_annotations:\n",
    "        annotations[annotation[\"filename\"]] = {\n",
    "            \"latex\": annotation[\"latex\"],\n",
    "            \"uuid\": annotation[\"uuid\"],\n",
    "            \"unicode_str\": annotation[\"unicode_str\"],\n",
    "            \"unicode_less_curlies\": annotation[\"unicode_less_curlies\"],\n",
    "            \"image_data\": annotation[\"image_data\"],\n",
    "            \"font\": annotation[\"font\"],\n",
    "        }"
   ]
  },
  {
   "cell_type": "code",
   "execution_count": null,
   "metadata": {},
   "outputs": [],
   "source": [
    "json.dump(annotations, open(\"data/annotations.json\", \"w\"), indent=4)"
   ]
  }
 ],
 "metadata": {
  "kernelspec": {
   "display_name": "ml_env",
   "language": "python",
   "name": "python3"
  },
  "language_info": {
   "codemirror_mode": {
    "name": "ipython",
    "version": 3
   },
   "file_extension": ".py",
   "mimetype": "text/x-python",
   "name": "python",
   "nbconvert_exporter": "python",
   "pygments_lexer": "ipython3",
   "version": "3.12.5"
  }
 },
 "nbformat": 4,
 "nbformat_minor": 2
}
