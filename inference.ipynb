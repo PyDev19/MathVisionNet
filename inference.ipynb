{
 "cells": [
  {
   "cell_type": "code",
   "execution_count": null,
   "metadata": {},
   "outputs": [],
   "source": [
    "import torch\n",
    "from PIL import Image\n",
    "from torchvision.transforms.v2 import Compose, ToTensor, CenterCrop, ToDtype\n",
    "from model import EquationRecognitionModel\n",
    "from tokenizer import LaTeXTokenizer\n",
    "\n",
    "model = EquationRecognitionModel.load_from_checkpoint('logs/equation_cnn/version_2/checkpoints/epoch=10-step=2673.ckpt')\n",
    "model.eval()"
   ]
  },
  {
   "cell_type": "code",
   "execution_count": null,
   "metadata": {},
   "outputs": [],
   "source": [
    "image_transform = Compose([\n",
    "    CenterCrop((100, 300)),\n",
    "    ToDtype(torch.float32, scale=True),\n",
    "    ToTensor(),\n",
    "])"
   ]
  },
  {
   "cell_type": "code",
   "execution_count": null,
   "metadata": {},
   "outputs": [],
   "source": [
    "tokenizer = LaTeXTokenizer()\n",
    "tokenizer.load_vocab('data/vocab.json')"
   ]
  },
  {
   "cell_type": "code",
   "execution_count": null,
   "metadata": {},
   "outputs": [],
   "source": [
    "@torch.no_grad()\n",
    "def predict_equation(image_path, model, tokenizer):\n",
    "    image = Image.open(image_path).convert('RGB')\n",
    "    image_tensor = image_transform(image).unsqueeze(0)\n",
    "    \n",
    "    start_token = torch.tensor([tokenizer.vocab['<SOS>']], dtype=torch.long).unsqueeze(0)\n",
    "    \n",
    "    length_tensor = torch.tensor([1], dtype=torch.long)\n",
    "    \n",
    "    for _ in range(100):\n",
    "        outputs = model(image_tensor, start_token, length_tensor)\n",
    "        preds = torch.argmax(outputs, dim=2)\n",
    "        next_token = preds[:, -1:]\n",
    "        \n",
    "        if next_token.item() == tokenizer.vocab['<EOS>']:\n",
    "            break\n",
    "        \n",
    "        start_token = torch.cat((start_token, next_token), dim=1)\n",
    "        length_tensor += 1\n",
    "    \n",
    "    predicted_sequence = start_token.squeeze().tolist()\n",
    "    equation = tokenizer(predicted_sequence)\n",
    "    \n",
    "    return equation"
   ]
  },
  {
   "cell_type": "code",
   "execution_count": null,
   "metadata": {},
   "outputs": [],
   "source": [
    "image_path = input('Enter Path to Image: ')\n",
    "predicted_equation = predict_equation(image_path, model, tokenizer)\n",
    "print(f'Predicted Equation: {predicted_equation}')"
   ]
  }
 ],
 "metadata": {
  "kernelspec": {
   "display_name": "ml_env",
   "language": "python",
   "name": "python3"
  },
  "language_info": {
   "codemirror_mode": {
    "name": "ipython",
    "version": 3
   },
   "file_extension": ".py",
   "mimetype": "text/x-python",
   "name": "python",
   "nbconvert_exporter": "python",
   "pygments_lexer": "ipython3",
   "version": "3.12.4"
  }
 },
 "nbformat": 4,
 "nbformat_minor": 2
}
