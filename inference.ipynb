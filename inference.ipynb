{
 "cells": [
  {
   "cell_type": "code",
   "execution_count": 24,
   "metadata": {},
   "outputs": [
    {
     "data": {
      "text/plain": [
       "EquationRecognitionModel(\n",
       "  (cnn): Sequential(\n",
       "    (0): Conv2d(3, 32, kernel_size=(3, 3), stride=(1, 1), padding=(1, 1))\n",
       "    (1): ReLU()\n",
       "    (2): MaxPool2d(kernel_size=2, stride=2, padding=0, dilation=1, ceil_mode=False)\n",
       "    (3): Conv2d(32, 64, kernel_size=(3, 3), stride=(1, 1), padding=(1, 1))\n",
       "    (4): ReLU()\n",
       "    (5): MaxPool2d(kernel_size=2, stride=2, padding=0, dilation=1, ceil_mode=False)\n",
       "    (6): Conv2d(64, 128, kernel_size=(3, 3), stride=(1, 1), padding=(1, 1))\n",
       "    (7): ReLU()\n",
       "    (8): MaxPool2d(kernel_size=2, stride=2, padding=0, dilation=1, ceil_mode=False)\n",
       "  )\n",
       "  (cnn_to_rnn): Linear(in_features=56832, out_features=256, bias=True)\n",
       "  (embedding): Embedding(45, 256)\n",
       "  (lstm): LSTM(256, 512, num_layers=2, batch_first=True)\n",
       "  (output_layer): Linear(in_features=512, out_features=45, bias=True)\n",
       "  (loss): CrossEntropyLoss()\n",
       "  (accuracy): MulticlassAccuracy()\n",
       ")"
      ]
     },
     "execution_count": 24,
     "metadata": {},
     "output_type": "execute_result"
    }
   ],
   "source": [
    "import torch\n",
    "from PIL import Image\n",
    "from torchvision.transforms.v2 import Compose, ToTensor, CenterCrop, ToDtype\n",
    "from model import EquationRecognitionModel\n",
    "from tokenizer import EquationTokenizer\n",
    "\n",
    "model = EquationRecognitionModel.load_from_checkpoint('logs/equation_cnn/version_0/checkpoints/epoch=3-step=2400.ckpt')\n",
    "model.eval()"
   ]
  },
  {
   "cell_type": "code",
   "execution_count": 25,
   "metadata": {},
   "outputs": [
    {
     "name": "stderr",
     "output_type": "stream",
     "text": [
      "/home/atharva/virtual_envs/ml_env/lib64/python3.12/site-packages/torchvision/transforms/v2/_deprecated.py:42: UserWarning: The transform `ToTensor()` is deprecated and will be removed in a future release. Instead, please use `v2.Compose([v2.ToImage(), v2.ToDtype(torch.float32, scale=True)])`.Output is equivalent up to float precision.\n",
      "  warnings.warn(\n"
     ]
    }
   ],
   "source": [
    "image_transform = Compose([\n",
    "    CenterCrop((100, 300)),\n",
    "    ToDtype(torch.float32, scale=True),\n",
    "    ToTensor(),\n",
    "])"
   ]
  },
  {
   "cell_type": "code",
   "execution_count": 26,
   "metadata": {},
   "outputs": [],
   "source": [
    "tokenizer = EquationTokenizer()\n",
    "tokenizer.build_vocab()"
   ]
  },
  {
   "cell_type": "code",
   "execution_count": 27,
   "metadata": {},
   "outputs": [],
   "source": [
    "@torch.no_grad()\n",
    "def predict_equation(image_path, model, tokenizer):\n",
    "    image = Image.open(image_path).convert('RGB')\n",
    "    image_tensor = image_transform(image).unsqueeze(0)\n",
    "    \n",
    "    start_token = torch.tensor([tokenizer.vocab['<SOS>']], dtype=torch.long).unsqueeze(0)\n",
    "    \n",
    "    length_tensor = torch.tensor([1], dtype=torch.long)\n",
    "    \n",
    "    for _ in range(100):\n",
    "        outputs = model(image_tensor, start_token, length_tensor)\n",
    "        preds = torch.argmax(outputs, dim=2)\n",
    "        next_token = preds[:, -1:]\n",
    "        \n",
    "        if next_token.item() == tokenizer.vocab['<EOS>']:\n",
    "            break\n",
    "        \n",
    "        start_token = torch.cat((start_token, next_token), dim=1)\n",
    "        length_tensor += 1\n",
    "    \n",
    "    predicted_sequence = start_token.squeeze().tolist()\n",
    "    equation = tokenizer(predicted_sequence)\n",
    "    \n",
    "    return equation"
   ]
  },
  {
   "cell_type": "code",
   "execution_count": 28,
   "metadata": {},
   "outputs": [
    {
     "name": "stdout",
     "output_type": "stream",
     "text": [
      "Predicted Equation: 4x + 12y = 234\n"
     ]
    }
   ],
   "source": [
    "image_path = 'New Project.png'\n",
    "predicted_equation = predict_equation(image_path, model, tokenizer)\n",
    "print(f'Predicted Equation: {predicted_equation}')"
   ]
  }
 ],
 "metadata": {
  "kernelspec": {
   "display_name": "ml_env",
   "language": "python",
   "name": "python3"
  },
  "language_info": {
   "codemirror_mode": {
    "name": "ipython",
    "version": 3
   },
   "file_extension": ".py",
   "mimetype": "text/x-python",
   "name": "python",
   "nbconvert_exporter": "python",
   "pygments_lexer": "ipython3",
   "version": "3.12.4"
  }
 },
 "nbformat": 4,
 "nbformat_minor": 2
}
