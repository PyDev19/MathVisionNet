{
 "cells": [
  {
   "cell_type": "code",
   "execution_count": null,
   "metadata": {},
   "outputs": [],
   "source": [
    "import yaml\n",
    "\n",
    "hyperparameters = yaml.load(open('hyperparameters.yaml'), Loader=yaml.FullLoader)\n",
    "hyperparameters"
   ]
  },
  {
   "cell_type": "code",
   "execution_count": null,
   "metadata": {},
   "outputs": [],
   "source": [
    "from model import Image2LatexModel\n",
    "\n",
    "model = Image2LatexModel.load_from_checkpoint('logs/image2latex/version_0/checkpoints/epoch=3-step=10000.ckpt')\n",
    "model.eval()"
   ]
  },
  {
   "cell_type": "code",
   "execution_count": null,
   "metadata": {},
   "outputs": [],
   "source": [
    "from torchvision.transforms.v2 import Resize, Compose\n",
    "\n",
    "transform = Compose([\n",
    "    Resize(hyperparameters['model']['image_size']),\n",
    "])"
   ]
  },
  {
   "cell_type": "code",
   "execution_count": null,
   "metadata": {},
   "outputs": [],
   "source": [
    "from torchvision.io import read_image\n",
    "\n",
    "input_image = 'original.png'\n",
    "tensor_image = read_image(input_image)\n",
    "tensor_image = tensor_image.float() / 255.0\n",
    "transformed_image = transform(tensor_image)\n",
    "transformed_image = transformed_image.unsqueeze(0)\n",
    "transformed_image.shape"
   ]
  },
  {
   "cell_type": "code",
   "execution_count": null,
   "metadata": {},
   "outputs": [],
   "source": [
    "import torch\n",
    "\n",
    "with torch.no_grad():\n",
    "    encoder_output = model.image_embeddings(transformed_image)\n",
    "    encoder_output = model.encoder(encoder_output)\n",
    "\n",
    "encoder_output = encoder_output.transpose(0, 1)\n",
    "encoder_output.shape"
   ]
  },
  {
   "cell_type": "code",
   "execution_count": null,
   "metadata": {},
   "outputs": [],
   "source": [
    "decoded_tokens = torch.full((1, hyperparameters['model']['max_length']), 92)\n",
    "decoded_tokens"
   ]
  },
  {
   "cell_type": "code",
   "execution_count": null,
   "metadata": {},
   "outputs": [],
   "source": [
    "output_sequence = torch.full((1, 1), 92)\n",
    "output_sequence"
   ]
  },
  {
   "cell_type": "code",
   "execution_count": null,
   "metadata": {},
   "outputs": [],
   "source": [
    "from tqdm import tqdm\n",
    "\n",
    "for i in tqdm(range(hyperparameters['model']['max_length']-1), desc='Generating LaTeX tokens'):\n",
    "    with torch.no_grad():\n",
    "        target_embeddings = model.target_embeddings(output_sequence).transpose(0, 1)\n",
    "        target_mask = model.generate_square_subsequent_mask(output_sequence.size(1))\n",
    "        decoder_output = model.decoder(target_embeddings, encoder_output, tgt_mask=target_mask, tgt_is_causal=True)\n",
    "        \n",
    "        logits = model.output_projection(decoder_output[-1])\n",
    "        \n",
    "        next_token = logits.argmax(dim=-1, keepdim=True)\n",
    "        output_sequence = torch.cat([output_sequence, next_token], dim=1)\n",
    "        \n",
    "        if torch.all(next_token == 93):\n",
    "            break"
   ]
  },
  {
   "cell_type": "code",
   "execution_count": null,
   "metadata": {},
   "outputs": [],
   "source": []
  }
 ],
 "metadata": {
  "kernelspec": {
   "display_name": "ml_env",
   "language": "python",
   "name": "python3"
  },
  "language_info": {
   "codemirror_mode": {
    "name": "ipython",
    "version": 3
   },
   "file_extension": ".py",
   "mimetype": "text/x-python",
   "name": "python",
   "nbconvert_exporter": "python",
   "pygments_lexer": "ipython3",
   "version": "3.12.5"
  }
 },
 "nbformat": 4,
 "nbformat_minor": 2
}
