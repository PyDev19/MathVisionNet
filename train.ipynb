{
 "cells": [
  {
   "cell_type": "code",
   "execution_count": null,
   "metadata": {},
   "outputs": [],
   "source": [
    "%load_ext autoreload\n",
    "%autoreload 2"
   ]
  },
  {
   "cell_type": "code",
   "execution_count": null,
   "metadata": {},
   "outputs": [],
   "source": [
    "hyperparameters = {\n",
    "    'batch_size': 8,\n",
    "    'num_workers': 16,\n",
    "    'vocab_size': 91,\n",
    "    'cnn_channels': [3, 64, 128, 256, 512],\n",
    "    'hidden_dim': 512,\n",
    "    'activation': 'silu',\n",
    "    'num_heads': 8,\n",
    "    'num_decoder_layers': 6,\n",
    "    'dim_feedforward': 1024,\n",
    "    'dropout': 0.1,\n",
    "}"
   ]
  },
  {
   "cell_type": "code",
   "execution_count": null,
   "metadata": {},
   "outputs": [],
   "source": [
    "from data import MathEquationsDatamodule\n",
    "data_modules = []\n",
    "\n",
    "for i in range(1, 11):\n",
    "    data_module = MathEquationsDatamodule(\n",
    "        f'data/batch_{i}',\n",
    "        hyperparameters['batch_size'],\n",
    "        hyperparameters['num_workers'],\n",
    "    )\n",
    "    \n",
    "    data_modules.append(data_module)"
   ]
  },
  {
   "cell_type": "code",
   "execution_count": null,
   "metadata": {},
   "outputs": [],
   "source": [
    "from model import Image2LaTeXTransformer\n",
    "from lightning.pytorch.utilities.model_summary import ModelSummary\n",
    "\n",
    "model = Image2LaTeXTransformer(hyperparameters)\n",
    "ModelSummary(model, max_depth=2)"
   ]
  }
 ],
 "metadata": {
  "kernelspec": {
   "display_name": "ml_env",
   "language": "python",
   "name": "python3"
  },
  "language_info": {
   "codemirror_mode": {
    "name": "ipython",
    "version": 3
   },
   "file_extension": ".py",
   "mimetype": "text/x-python",
   "name": "python",
   "nbconvert_exporter": "python",
   "pygments_lexer": "ipython3",
   "version": "3.12.4"
  }
 },
 "nbformat": 4,
 "nbformat_minor": 2
}
