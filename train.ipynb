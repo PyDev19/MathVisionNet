{
 "cells": [
  {
   "cell_type": "code",
   "execution_count": null,
   "metadata": {},
   "outputs": [],
   "source": [
    "%load_ext autoreload\n",
    "%autoreload 2"
   ]
  },
  {
   "cell_type": "code",
   "execution_count": null,
   "metadata": {},
   "outputs": [],
   "source": [
    "import yaml\n",
    "\n",
    "hyperparameters = yaml.load(open('hyperparameters.yaml'), Loader=yaml.FullLoader)"
   ]
  },
  {
   "cell_type": "code",
   "execution_count": null,
   "metadata": {},
   "outputs": [],
   "source": [
    "from data import MathEquationsDatamodule\n",
    "data_module = MathEquationsDatamodule(\n",
    "    'data',\n",
    "    hyperparameters['model']['image_size'],\n",
    "    hyperparameters['batch_size'],\n",
    "    hyperparameters['num_workers'],\n",
    ")"
   ]
  },
  {
   "cell_type": "code",
   "execution_count": null,
   "metadata": {},
   "outputs": [],
   "source": [
    "from model.transformer import Image2LaTeXVisionTransformer\n",
    "from lightning.pytorch.utilities.model_summary import ModelSummary\n",
    "\n",
    "model = Image2LaTeXVisionTransformer(hyperparameters['model'], hyperparameters['optimizer'])\n",
    "ModelSummary(model, max_depth=3)"
   ]
  },
  {
   "cell_type": "code",
   "execution_count": null,
   "metadata": {},
   "outputs": [],
   "source": [
    "from pytorch_lightning import Trainer\n",
    "from pytorch_lightning.callbacks import ModelCheckpoint, EarlyStopping, LearningRateMonitor\n",
    "from pytorch_lightning.loggers import TensorBoardLogger\n",
    "\n",
    "checkpoint_callback = ModelCheckpoint(monitor='val_loss', save_top_k=1, mode='min')\n",
    "early_stopping_callback = EarlyStopping(monitor='val_loss', patience=5, mode='min')\n",
    "lr_monitor = LearningRateMonitor(logging_interval='step')\n",
    "logger = TensorBoardLogger('logs', name='image2latex', log_graph=True)\n",
    "\n",
    "trainer = Trainer(\n",
    "    logger=logger,\n",
    "    callbacks=[checkpoint_callback, early_stopping_callback, lr_monitor],\n",
    "    max_epochs=hyperparameters['num_epochs'],\n",
    "    enable_checkpointing=True,\n",
    "    enable_progress_bar=True\n",
    ")"
   ]
  },
  {
   "cell_type": "code",
   "execution_count": null,
   "metadata": {},
   "outputs": [],
   "source": [
    "trainer.fit(model, data_module)"
   ]
  }
 ],
 "metadata": {
  "kernelspec": {
   "display_name": "ml_env",
   "language": "python",
   "name": "python3"
  },
  "language_info": {
   "codemirror_mode": {
    "name": "ipython",
    "version": 3
   },
   "file_extension": ".py",
   "mimetype": "text/x-python",
   "name": "python",
   "nbconvert_exporter": "python",
   "pygments_lexer": "ipython3",
   "version": "3.12.4"
  }
 },
 "nbformat": 4,
 "nbformat_minor": 2
}
